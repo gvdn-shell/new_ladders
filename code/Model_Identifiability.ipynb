{
 "cells": [
  {
   "cell_type": "code",
   "execution_count": 2,
   "id": "f0fa925f",
   "metadata": {},
   "outputs": [
    {
     "name": "stdout",
     "output_type": "stream",
     "text": [
      "Collecting sympy\n",
      "  Downloading sympy-1.14.0-py3-none-any.whl.metadata (12 kB)\n",
      "Collecting mpmath<1.4,>=1.1.0 (from sympy)\n",
      "  Downloading mpmath-1.3.0-py3-none-any.whl.metadata (8.6 kB)\n",
      "Downloading sympy-1.14.0-py3-none-any.whl (6.3 MB)\n",
      "   ---------------------------------------- 0.0/6.3 MB ? eta -:--:--\n",
      "   ---------------------------------------  6.3/6.3 MB 35.1 MB/s eta 0:00:01\n",
      "   ---------------------------------------- 6.3/6.3 MB 29.7 MB/s eta 0:00:00\n",
      "Downloading mpmath-1.3.0-py3-none-any.whl (536 kB)\n",
      "   ---------------------------------------- 0.0/536.2 kB ? eta -:--:--\n",
      "   --------------------------------------- 536.2/536.2 kB 17.1 MB/s eta 0:00:00\n",
      "Installing collected packages: mpmath, sympy\n",
      "Successfully installed mpmath-1.3.0 sympy-1.14.0\n"
     ]
    }
   ],
   "source": [
    "!pip install sympy"
   ]
  },
  {
   "cell_type": "code",
   "execution_count": 3,
   "id": "df0378a4",
   "metadata": {},
   "outputs": [
    {
     "name": "stdout",
     "output_type": "stream",
     "text": [
      "Jacobian Matrix:\n",
      "Matrix([[(1/(exp((-GDP + xmid)/scal) + 1))**(Gini*g1 + g0), density*(1/(exp((-GDP + xmid)/scal) + 1))**(Gini*g1 + g0), -(a0 + a1*density)*(Gini*g1 + g0)*(1/(exp((-GDP + xmid)/scal) + 1))**(Gini*g1 + g0)*exp((-GDP + xmid)/scal)/(scal*(exp((-GDP + xmid)/scal) + 1)), (-GDP + xmid)*(a0 + a1*density)*(Gini*g1 + g0)*(1/(exp((-GDP + xmid)/scal) + 1))**(Gini*g1 + g0)*exp((-GDP + xmid)/scal)/(scal**2*(exp((-GDP + xmid)/scal) + 1)), (a0 + a1*density)*(1/(exp((-GDP + xmid)/scal) + 1))**(Gini*g1 + g0)*log(1/(exp((-GDP + xmid)/scal) + 1)), Gini*(a0 + a1*density)*(1/(exp((-GDP + xmid)/scal) + 1))**(Gini*g1 + g0)*log(1/(exp((-GDP + xmid)/scal) + 1))]])\n",
      "\n",
      "Jacobian Rank:\n",
      "1\n"
     ]
    }
   ],
   "source": [
    "from sympy import symbols, exp, diff, Matrix\n",
    "\n",
    "# Define the symbolic variables\n",
    "a0, a1, xmid, scal, g0, g1, GDP, density, Gini = symbols('a0 a1 xmid scal g0 g1 GDP density Gini')\n",
    "\n",
    "# Define the model expression\n",
    "expr = (a0 + a1 * density) * (1 / (1 + exp((xmid - GDP) / scal))) ** (g0 + g1 * Gini)\n",
    "\n",
    "# Compute the symbolic derivatives (Jacobian matrix)\n",
    "jacobian = Matrix([\n",
    "    diff(expr, a0),\n",
    "    diff(expr, a1),\n",
    "    diff(expr, xmid),\n",
    "    diff(expr, scal),\n",
    "    diff(expr, g0),\n",
    "    diff(expr, g1)\n",
    "]).transpose()\n",
    "\n",
    "# Compute the rank of the Jacobian matrix\n",
    "jacobian_rank = jacobian.rank()\n",
    "\n",
    "# Print the Jacobian matrix and its rank\n",
    "print(\"Jacobian Matrix:\")\n",
    "print(jacobian)\n",
    "print(\"\\nJacobian Rank:\")\n",
    "print(jacobian_rank)\n"
   ]
  },
  {
   "cell_type": "code",
   "execution_count": 6,
   "id": "56189e3c",
   "metadata": {},
   "outputs": [
    {
     "name": "stdout",
     "output_type": "stream",
     "text": [
      "Jacobian Matrix:\n",
      "Matrix([[-exp((-GDP + xmid)/scal)/(scal*(exp((-GDP + xmid)/scal) + 1)**2), (-GDP + xmid)*exp((-GDP + xmid)/scal)/(scal**2*(exp((-GDP + xmid)/scal) + 1)**2)]])\n",
      "\n",
      "Jacobian Rank:\n",
      "1\n"
     ]
    }
   ],
   "source": [
    "# Define the symbolic variables\n",
    "xmid, scal, GDP = symbols('xmid scal GDP')\n",
    "\n",
    "# Define the model expression\n",
    "expr = (1 / (1 + exp((xmid - GDP) / scal)))\n",
    "\n",
    "# Compute the symbolic derivatives (Jacobian matrix)\n",
    "jacobian = Matrix([\n",
    "    diff(expr, xmid),\n",
    "    diff(expr, scal)\n",
    "]).transpose()\n",
    "\n",
    "# Compute the rank of the Jacobian matrix\n",
    "jacobian_rank = jacobian.rank()\n",
    "\n",
    "# Print the Jacobian matrix and its rank\n",
    "print(\"Jacobian Matrix:\")\n",
    "print(jacobian)\n",
    "print(\"\\nJacobian Rank:\")\n",
    "print(jacobian_rank)"
   ]
  }
 ],
 "metadata": {
  "kernelspec": {
   "display_name": "base",
   "language": "python",
   "name": "python3"
  },
  "language_info": {
   "codemirror_mode": {
    "name": "ipython",
    "version": 3
   },
   "file_extension": ".py",
   "mimetype": "text/x-python",
   "name": "python",
   "nbconvert_exporter": "python",
   "pygments_lexer": "ipython3",
   "version": "3.12.8"
  }
 },
 "nbformat": 4,
 "nbformat_minor": 5
}
